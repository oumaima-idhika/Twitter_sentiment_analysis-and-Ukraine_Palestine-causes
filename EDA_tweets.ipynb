{
 "cells": [
  {
   "cell_type": "code",
   "execution_count": 49,
   "metadata": {},
   "outputs": [],
   "source": [
    "import pandas as pd \n",
    "import numpy as np\n",
    "import matplotlib.pyplot as plt\n",
    "import seaborn as sns"
   ]
  },
  {
   "cell_type": "code",
   "execution_count": 3,
   "metadata": {},
   "outputs": [],
   "source": [
    "data=pd.read_csv('../Uk_Pal.csv')"
   ]
  },
  {
   "cell_type": "code",
   "execution_count": 4,
   "metadata": {},
   "outputs": [
    {
     "data": {
      "text/html": [
       "<div>\n",
       "<style scoped>\n",
       "    .dataframe tbody tr th:only-of-type {\n",
       "        vertical-align: middle;\n",
       "    }\n",
       "\n",
       "    .dataframe tbody tr th {\n",
       "        vertical-align: top;\n",
       "    }\n",
       "\n",
       "    .dataframe thead th {\n",
       "        text-align: right;\n",
       "    }\n",
       "</style>\n",
       "<table border=\"1\" class=\"dataframe\">\n",
       "  <thead>\n",
       "    <tr style=\"text-align: right;\">\n",
       "      <th></th>\n",
       "      <th>ids</th>\n",
       "      <th>date</th>\n",
       "      <th>user</th>\n",
       "      <th>replyCount</th>\n",
       "      <th>retweetCount</th>\n",
       "      <th>likeCount</th>\n",
       "      <th>lang</th>\n",
       "      <th>text</th>\n",
       "      <th>country</th>\n",
       "      <th>sentiment</th>\n",
       "    </tr>\n",
       "  </thead>\n",
       "  <tbody>\n",
       "    <tr>\n",
       "      <th>0</th>\n",
       "      <td>1512459198356930564</td>\n",
       "      <td>2022-04-08 15:55:47+00:00</td>\n",
       "      <td>bmsodonon</td>\n",
       "      <td>0</td>\n",
       "      <td>0</td>\n",
       "      <td>0</td>\n",
       "      <td>fr</td>\n",
       "      <td>#Ukraine. La grande #MANIPULATION.\\nLes vrais ...</td>\n",
       "      <td>Ukraine</td>\n",
       "      <td>0</td>\n",
       "    </tr>\n",
       "    <tr>\n",
       "      <th>1</th>\n",
       "      <td>1512459195962040332</td>\n",
       "      <td>2022-04-08 15:55:47+00:00</td>\n",
       "      <td>OHFNews</td>\n",
       "      <td>0</td>\n",
       "      <td>0</td>\n",
       "      <td>0</td>\n",
       "      <td>pt</td>\n",
       "      <td>#URGENTE 🇪🇺🇺🇦 A presidente da Comissão Europei...</td>\n",
       "      <td>Ukraine</td>\n",
       "      <td>1</td>\n",
       "    </tr>\n",
       "    <tr>\n",
       "      <th>2</th>\n",
       "      <td>1512459195865513984</td>\n",
       "      <td>2022-04-08 15:55:47+00:00</td>\n",
       "      <td>A_L_E_X_V_E_G_A</td>\n",
       "      <td>0</td>\n",
       "      <td>0</td>\n",
       "      <td>0</td>\n",
       "      <td>en</td>\n",
       "      <td>Ukraine war disruptions send food prices to th...</td>\n",
       "      <td>Ukraine</td>\n",
       "      <td>1</td>\n",
       "    </tr>\n",
       "    <tr>\n",
       "      <th>3</th>\n",
       "      <td>1512459194770808837</td>\n",
       "      <td>2022-04-08 15:55:46+00:00</td>\n",
       "      <td>MoreauS38805983</td>\n",
       "      <td>0</td>\n",
       "      <td>0</td>\n",
       "      <td>0</td>\n",
       "      <td>fr</td>\n",
       "      <td>@jkriss33 @Ru5tY_68 @Mediavenir Un faux prétex...</td>\n",
       "      <td>Ukraine</td>\n",
       "      <td>1</td>\n",
       "    </tr>\n",
       "    <tr>\n",
       "      <th>4</th>\n",
       "      <td>1512459194447843342</td>\n",
       "      <td>2022-04-08 15:55:46+00:00</td>\n",
       "      <td>CharleneFFreem1</td>\n",
       "      <td>0</td>\n",
       "      <td>0</td>\n",
       "      <td>0</td>\n",
       "      <td>en</td>\n",
       "      <td>💥HOW CAN THIS BE POSSIBLE ???\\nPUTIN &amp;amp; HIS...</td>\n",
       "      <td>Ukraine</td>\n",
       "      <td>1</td>\n",
       "    </tr>\n",
       "  </tbody>\n",
       "</table>\n",
       "</div>"
      ],
      "text/plain": [
       "                   ids                       date             user  \\\n",
       "0  1512459198356930564  2022-04-08 15:55:47+00:00        bmsodonon   \n",
       "1  1512459195962040332  2022-04-08 15:55:47+00:00          OHFNews   \n",
       "2  1512459195865513984  2022-04-08 15:55:47+00:00  A_L_E_X_V_E_G_A   \n",
       "3  1512459194770808837  2022-04-08 15:55:46+00:00  MoreauS38805983   \n",
       "4  1512459194447843342  2022-04-08 15:55:46+00:00  CharleneFFreem1   \n",
       "\n",
       "   replyCount  retweetCount  likeCount lang  \\\n",
       "0           0             0          0   fr   \n",
       "1           0             0          0   pt   \n",
       "2           0             0          0   en   \n",
       "3           0             0          0   fr   \n",
       "4           0             0          0   en   \n",
       "\n",
       "                                                text  country  sentiment  \n",
       "0  #Ukraine. La grande #MANIPULATION.\\nLes vrais ...  Ukraine          0  \n",
       "1  #URGENTE 🇪🇺🇺🇦 A presidente da Comissão Europei...  Ukraine          1  \n",
       "2  Ukraine war disruptions send food prices to th...  Ukraine          1  \n",
       "3  @jkriss33 @Ru5tY_68 @Mediavenir Un faux prétex...  Ukraine          1  \n",
       "4  💥HOW CAN THIS BE POSSIBLE ???\\nPUTIN &amp; HIS...  Ukraine          1  "
      ]
     },
     "execution_count": 4,
     "metadata": {},
     "output_type": "execute_result"
    }
   ],
   "source": [
    "data.head()"
   ]
  },
  {
   "cell_type": "code",
   "execution_count": 5,
   "metadata": {},
   "outputs": [
    {
     "data": {
      "text/plain": [
       "(10000, 10)"
      ]
     },
     "execution_count": 5,
     "metadata": {},
     "output_type": "execute_result"
    }
   ],
   "source": [
    "data.shape"
   ]
  },
  {
   "cell_type": "code",
   "execution_count": 12,
   "metadata": {},
   "outputs": [
    {
     "name": "stdout",
     "output_type": "stream",
     "text": [
      "<class 'pandas.core.frame.DataFrame'>\n",
      "RangeIndex: 10000 entries, 0 to 9999\n",
      "Data columns (total 10 columns):\n",
      " #   Column        Non-Null Count  Dtype \n",
      "---  ------        --------------  ----- \n",
      " 0   ids           10000 non-null  int64 \n",
      " 1   date          10000 non-null  object\n",
      " 2   user          10000 non-null  object\n",
      " 3   replyCount    10000 non-null  int64 \n",
      " 4   retweetCount  10000 non-null  int64 \n",
      " 5   likeCount     10000 non-null  int64 \n",
      " 6   lang          10000 non-null  object\n",
      " 7   text          10000 non-null  object\n",
      " 8   country       10000 non-null  object\n",
      " 9   sentiment     10000 non-null  int64 \n",
      "dtypes: int64(5), object(5)\n",
      "memory usage: 781.4+ KB\n"
     ]
    }
   ],
   "source": [
    "data.info()"
   ]
  },
  {
   "cell_type": "code",
   "execution_count": 13,
   "metadata": {},
   "outputs": [
    {
     "data": {
      "text/html": [
       "<div>\n",
       "<style scoped>\n",
       "    .dataframe tbody tr th:only-of-type {\n",
       "        vertical-align: middle;\n",
       "    }\n",
       "\n",
       "    .dataframe tbody tr th {\n",
       "        vertical-align: top;\n",
       "    }\n",
       "\n",
       "    .dataframe thead th {\n",
       "        text-align: right;\n",
       "    }\n",
       "</style>\n",
       "<table border=\"1\" class=\"dataframe\">\n",
       "  <thead>\n",
       "    <tr style=\"text-align: right;\">\n",
       "      <th></th>\n",
       "      <th>ids</th>\n",
       "      <th>replyCount</th>\n",
       "      <th>retweetCount</th>\n",
       "      <th>likeCount</th>\n",
       "      <th>sentiment</th>\n",
       "    </tr>\n",
       "  </thead>\n",
       "  <tbody>\n",
       "    <tr>\n",
       "      <th>count</th>\n",
       "      <td>1.000000e+04</td>\n",
       "      <td>10000.00000</td>\n",
       "      <td>10000.000000</td>\n",
       "      <td>10000.000000</td>\n",
       "      <td>10000.000000</td>\n",
       "    </tr>\n",
       "    <tr>\n",
       "      <th>mean</th>\n",
       "      <td>1.512412e+18</td>\n",
       "      <td>0.53480</td>\n",
       "      <td>1.243400</td>\n",
       "      <td>5.953600</td>\n",
       "      <td>0.564200</td>\n",
       "    </tr>\n",
       "    <tr>\n",
       "      <th>std</th>\n",
       "      <td>6.229136e+13</td>\n",
       "      <td>11.10749</td>\n",
       "      <td>56.305779</td>\n",
       "      <td>353.000234</td>\n",
       "      <td>0.495886</td>\n",
       "    </tr>\n",
       "    <tr>\n",
       "      <th>min</th>\n",
       "      <td>1.512247e+18</td>\n",
       "      <td>0.00000</td>\n",
       "      <td>0.000000</td>\n",
       "      <td>0.000000</td>\n",
       "      <td>0.000000</td>\n",
       "    </tr>\n",
       "    <tr>\n",
       "      <th>25%</th>\n",
       "      <td>1.512375e+18</td>\n",
       "      <td>0.00000</td>\n",
       "      <td>0.000000</td>\n",
       "      <td>0.000000</td>\n",
       "      <td>0.000000</td>\n",
       "    </tr>\n",
       "    <tr>\n",
       "      <th>50%</th>\n",
       "      <td>1.512454e+18</td>\n",
       "      <td>0.00000</td>\n",
       "      <td>0.000000</td>\n",
       "      <td>0.000000</td>\n",
       "      <td>1.000000</td>\n",
       "    </tr>\n",
       "    <tr>\n",
       "      <th>75%</th>\n",
       "      <td>1.512457e+18</td>\n",
       "      <td>0.00000</td>\n",
       "      <td>0.000000</td>\n",
       "      <td>1.000000</td>\n",
       "      <td>1.000000</td>\n",
       "    </tr>\n",
       "    <tr>\n",
       "      <th>max</th>\n",
       "      <td>1.512462e+18</td>\n",
       "      <td>956.00000</td>\n",
       "      <td>5574.000000</td>\n",
       "      <td>35223.000000</td>\n",
       "      <td>1.000000</td>\n",
       "    </tr>\n",
       "  </tbody>\n",
       "</table>\n",
       "</div>"
      ],
      "text/plain": [
       "                ids   replyCount  retweetCount     likeCount     sentiment\n",
       "count  1.000000e+04  10000.00000  10000.000000  10000.000000  10000.000000\n",
       "mean   1.512412e+18      0.53480      1.243400      5.953600      0.564200\n",
       "std    6.229136e+13     11.10749     56.305779    353.000234      0.495886\n",
       "min    1.512247e+18      0.00000      0.000000      0.000000      0.000000\n",
       "25%    1.512375e+18      0.00000      0.000000      0.000000      0.000000\n",
       "50%    1.512454e+18      0.00000      0.000000      0.000000      1.000000\n",
       "75%    1.512457e+18      0.00000      0.000000      1.000000      1.000000\n",
       "max    1.512462e+18    956.00000   5574.000000  35223.000000      1.000000"
      ]
     },
     "execution_count": 13,
     "metadata": {},
     "output_type": "execute_result"
    }
   ],
   "source": [
    "data.describe()"
   ]
  },
  {
   "cell_type": "code",
   "execution_count": 14,
   "metadata": {},
   "outputs": [
    {
     "data": {
      "text/plain": [
       "Ukraine      5000\n",
       "Palestine    5000\n",
       "Name: country, dtype: int64"
      ]
     },
     "execution_count": 14,
     "metadata": {},
     "output_type": "execute_result"
    }
   ],
   "source": [
    "data['country'].value_counts()"
   ]
  },
  {
   "cell_type": "markdown",
   "metadata": {},
   "source": [
    "###### on dispose du meme nombre des donnees pour les deux pays Ukraine et Palestine,cela va nous permettre d'analyser la reaction des gens en ayant la meme taille d'echantillon."
   ]
  },
  {
   "cell_type": "code",
   "execution_count": 44,
   "metadata": {},
   "outputs": [
    {
     "name": "stderr",
     "output_type": "stream",
     "text": [
      "C:\\Users\\EliteBook\\anaconda3\\lib\\site-packages\\seaborn\\distributions.py:2551: FutureWarning: `distplot` is a deprecated function and will be removed in a future version. Please adapt your code to use either `displot` (a figure-level function with similar flexibility) or `histplot` (an axes-level function for histograms).\n",
      "  warnings.warn(msg, FutureWarning)\n",
      "C:\\Users\\EliteBook\\anaconda3\\lib\\site-packages\\seaborn\\distributions.py:2551: FutureWarning: `distplot` is a deprecated function and will be removed in a future version. Please adapt your code to use either `displot` (a figure-level function with similar flexibility) or `histplot` (an axes-level function for histograms).\n",
      "  warnings.warn(msg, FutureWarning)\n",
      "C:\\Users\\EliteBook\\anaconda3\\lib\\site-packages\\seaborn\\distributions.py:2551: FutureWarning: `distplot` is a deprecated function and will be removed in a future version. Please adapt your code to use either `displot` (a figure-level function with similar flexibility) or `histplot` (an axes-level function for histograms).\n",
      "  warnings.warn(msg, FutureWarning)\n"
     ]
    },
    {
     "data": {
      "text/plain": [
       "<AxesSubplot:xlabel='retweetCount', ylabel='Density'>"
      ]
     },
     "execution_count": 44,
     "metadata": {},
     "output_type": "execute_result"
    },
    {
     "data": {
      "image/png": "[encoded data removed]",
      "text/plain": [
       "<Figure size 1080x360 with 3 Axes>"
      ]
     },
     "metadata": {
      "needs_background": "light"
     },
     "output_type": "display_data"
    }
   ],
   "source": [
    "fig,axes= plt.subplots(1, 3, figsize=(15, 5), sharey=True)\n",
    "sns.distplot(data[data.country=='Palestine'].likeCount,color='red',ax=axes[0])\n",
    "sns.distplot(data[data.country=='Palestine'].replyCount,color='red',ax=axes[1])\n",
    "sns.distplot(data[data.country=='Palestine'].retweetCount,color='red',ax=axes[2])"
   ]
  },
  {
   "cell_type": "code",
   "execution_count": 43,
   "metadata": {
    "scrolled": true
   },
   "outputs": [
    {
     "name": "stderr",
     "output_type": "stream",
     "text": [
      "C:\\Users\\EliteBook\\anaconda3\\lib\\site-packages\\seaborn\\distributions.py:2551: FutureWarning: `distplot` is a deprecated function and will be removed in a future version. Please adapt your code to use either `displot` (a figure-level function with similar flexibility) or `histplot` (an axes-level function for histograms).\n",
      "  warnings.warn(msg, FutureWarning)\n",
      "C:\\Users\\EliteBook\\anaconda3\\lib\\site-packages\\seaborn\\distributions.py:2551: FutureWarning: `distplot` is a deprecated function and will be removed in a future version. Please adapt your code to use either `displot` (a figure-level function with similar flexibility) or `histplot` (an axes-level function for histograms).\n",
      "  warnings.warn(msg, FutureWarning)\n",
      "C:\\Users\\EliteBook\\anaconda3\\lib\\site-packages\\seaborn\\distributions.py:2551: FutureWarning: `distplot` is a deprecated function and will be removed in a future version. Please adapt your code to use either `displot` (a figure-level function with similar flexibility) or `histplot` (an axes-level function for histograms).\n",
      "  warnings.warn(msg, FutureWarning)\n"
     ]
    },
    {
     "data": {
      "text/plain": [
       "<AxesSubplot:xlabel='retweetCount', ylabel='Density'>"
      ]
     },
     "execution_count": 43,
     "metadata": {},
     "output_type": "execute_result"
    },
    {
     "data": {
      "image/png": "[encoded data removed]",
      "text/plain": [
       "<Figure size 1080x360 with 3 Axes>"
      ]
     },
     "metadata": {
      "needs_background": "light"
     },
     "output_type": "display_data"
    }
   ],
   "source": [
    "fig,axes= plt.subplots(1, 3, figsize=(15, 5), sharey=True)\n",
    "sns.distplot(data[data.country=='Ukraine'].likeCount,color='orange',ax=axes[0])\n",
    "sns.distplot(data[data.country=='Ukraine'].replyCount,color='orange',ax=axes[1])\n",
    "sns.distplot(data[data.country=='Ukraine'].retweetCount,color='orange',ax=axes[2])"
   ]
  },
  {
   "cell_type": "markdown",
   "metadata": {},
   "source": [
    "###### la plupart des replys,des retweets et des likes valent 0,et c'est presque similaire pour palestine aussi bien que pour Ukraine .Vous pouvez aussi voir ceci a travers les graphes qui suivent"
   ]
  },
  {
   "cell_type": "code",
   "execution_count": 48,
   "metadata": {},
   "outputs": [
    {
     "data": {
      "text/plain": [
       "<AxesSubplot:xlabel='country', ylabel='retweetCount'>"
      ]
     },
     "execution_count": 48,
     "metadata": {},
     "output_type": "execute_result"
    },
    {
     "data": {
      "image/png": "[encoded data removed]",
      "text/plain": [
       "<Figure size 1080x360 with 3 Axes>"
      ]
     },
     "metadata": {
      "needs_background": "light"
     },
     "output_type": "display_data"
    }
   ],
   "source": [
    "fig,axes= plt.subplots(1, 3, figsize=(15, 5), sharey=True)\n",
    "sns.violinplot(y=data.likeCount,x=data.country,ax= axes[0])\n",
    "sns.violinplot(y=data.replyCount,x=data.country,ax= axes[1])\n",
    "sns.violinplot(y=data.retweetCount,x=data.country,ax= axes[2])"
   ]
  },
  {
   "cell_type": "markdown",
   "metadata": {},
   "source": [
    "###### il semble de plus a travers ces graphes qu'il y'a moins de likes et de retweets pour Palestine que pour Ukraine"
   ]
  },
  {
   "cell_type": "code",
   "execution_count": 15,
   "metadata": {},
   "outputs": [
    {
     "data": {
      "text/plain": [
       "1    5642\n",
       "0    4358\n",
       "Name: sentiment, dtype: int64"
      ]
     },
     "execution_count": 15,
     "metadata": {},
     "output_type": "execute_result"
    }
   ],
   "source": [
    "data['sentiment'].value_counts()"
   ]
  },
  {
   "cell_type": "code",
   "execution_count": 20,
   "metadata": {
    "scrolled": false
   },
   "outputs": [
    {
     "data": {
      "text/plain": [
       "<AxesSubplot:xlabel='sentiment', ylabel='count'>"
      ]
     },
     "execution_count": 20,
     "metadata": {},
     "output_type": "execute_result"
    },
    {
     "data": {
      "image/png": "[encoded data removed]",
      "text/plain": [
       "<Figure size 432x288 with 1 Axes>"
      ]
     },
     "metadata": {
      "needs_background": "light"
     },
     "output_type": "display_data"
    }
   ],
   "source": [
    "sns.countplot(x=data['sentiment'],hue=data.country)"
   ]
  },
  {
   "cell_type": "markdown",
   "metadata": {},
   "source": [
    "###### on remarque que les gens reagissent d'une facon beaucoup positive par rapport a Palestine qu'a Ukraine"
   ]
  },
  {
   "cell_type": "code",
   "execution_count": 25,
   "metadata": {},
   "outputs": [
    {
     "data": {
      "text/plain": [
       "en     7390\n",
       "fr     1075\n",
       "de      403\n",
       "und     270\n",
       "ar      266\n",
       "et      130\n",
       "in       99\n",
       "es       65\n",
       "pl       44\n",
       "ja       39\n",
       "it       35\n",
       "hi       20\n",
       "ru       19\n",
       "uk       18\n",
       "ro       16\n",
       "da       15\n",
       "nl       15\n",
       "tl       11\n",
       "ca       11\n",
       "tr       10\n",
       "pt        6\n",
       "ht        6\n",
       "iw        4\n",
       "zh        4\n",
       "cs        3\n",
       "cy        3\n",
       "fi        3\n",
       "fa        3\n",
       "th        2\n",
       "no        2\n",
       "vi        2\n",
       "el        2\n",
       "ur        2\n",
       "lt        1\n",
       "te        1\n",
       "bn        1\n",
       "sl        1\n",
       "sv        1\n",
       "ta        1\n",
       "kn        1\n",
       "Name: lang, dtype: int64"
      ]
     },
     "execution_count": 25,
     "metadata": {},
     "output_type": "execute_result"
    }
   ],
   "source": [
    "data.lang.value_counts()"
   ]
  },
  {
   "cell_type": "code",
   "execution_count": 26,
   "metadata": {},
   "outputs": [
    {
     "data": {
      "image/png": "[encoded data removed]",
      "text/plain": [
       "<Figure size 720x576 with 1 Axes>"
      ]
     },
     "metadata": {},
     "output_type": "display_data"
    }
   ],
   "source": [
    "plt.figure(figsize=(10,8))\n",
    "data['lang'].value_counts().plot.pie(autopct=\"%1.1f%%\")\n",
    "plt.title('lang')\n",
    "plt.show()"
   ]
  },
  {
   "cell_type": "code",
   "execution_count": 28,
   "metadata": {},
   "outputs": [
    {
     "data": {
      "text/plain": [
       "<AxesSubplot:xlabel='lang', ylabel='count'>"
      ]
     },
     "execution_count": 28,
     "metadata": {},
     "output_type": "execute_result"
    },
    {
     "data": {
      "image/png": "[encoded data removed]",
      "text/plain": [
       "<Figure size 1440x1440 with 1 Axes>"
      ]
     },
     "metadata": {
      "needs_background": "light"
     },
     "output_type": "display_data"
    }
   ],
   "source": [
    "plt.figure(figsize=(20,20))\n",
    "sns.countplot(x=data['lang'],hue=data.country)"
   ]
  },
  {
   "cell_type": "markdown",
   "metadata": {},
   "source": [
    "###### les anglophones reagissent et tweetent beaucoup par rapport a la guerre sauf qu'il semble qu'ils s'interessent plus a la cause ukrainienne par rapport a la cause palestinienne .\n",
    " "
   ]
  },
  {
   "cell_type": "markdown",
   "metadata": {},
   "source": [
    "###### les arabes reagissent le plus par rapport a la cause ukrainienne.C'est le cas aussi pour les francophones."
   ]
  },
  {
   "cell_type": "code",
   "execution_count": null,
   "metadata": {},
   "outputs": [],
   "source": []
  }
 ],
 "metadata": {
  "kernelspec": {
   "display_name": "Python 3",
   "language": "python",
   "name": "python3"
  },
  "language_info": {
   "codemirror_mode": {
    "name": "ipython",
    "version": 3
   },
   "file_extension": ".py",
   "mimetype": "text/x-python",
   "name": "python",
   "nbconvert_exporter": "python",
   "pygments_lexer": "ipython3",
   "version": "3.8.5"
  }
 },
 "nbformat": 4,
 "nbformat_minor": 4
}
